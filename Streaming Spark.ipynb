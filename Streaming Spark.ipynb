{
 "cells": [
  {
   "cell_type": "code",
   "execution_count": 1,
   "id": "a26bc024-b24d-486c-9305-35b7e28b27e5",
   "metadata": {},
   "outputs": [],
   "source": [
    "import findspark\n",
    "findspark.init()\n"
   ]
  },
  {
   "cell_type": "code",
   "execution_count": 2,
   "id": "549826be-693b-4a7c-a5fa-b5addff960c4",
   "metadata": {},
   "outputs": [],
   "source": [
    "from pyspark import SparkContext\n",
    "from pyspark.streaming import StreamingContext"
   ]
  },
  {
   "cell_type": "code",
   "execution_count": 3,
   "id": "d39404eb-cc2e-49d0-badb-fcaf11b25f51",
   "metadata": {},
   "outputs": [],
   "source": [
    "# Create a local StreamingContext with two working thread and batch interval of 2 second\n",
    "sc = SparkContext(\"local[2]\", \"NetworkWordCount3\")\n",
    "ssc = StreamingContext(sc, 2)"
   ]
  },
  {
   "cell_type": "code",
   "execution_count": 4,
   "id": "fb5ab1ee-cc48-45c1-a910-2f9c9d34cc85",
   "metadata": {},
   "outputs": [],
   "source": [
    "# Create a DStream that will connect to hostname:port, like localhost:9999\n",
    "lines = ssc.socketTextStream(\"localhost\", 9999)"
   ]
  },
  {
   "cell_type": "code",
   "execution_count": 5,
   "id": "60af422a-050f-444d-a07d-e8a811064153",
   "metadata": {},
   "outputs": [],
   "source": [
    "# Split each line into words\n",
    "words = lines.flatMap(lambda line: line.split(\" \"))"
   ]
  },
  {
   "cell_type": "code",
   "execution_count": 6,
   "id": "7bad8870-28ad-4995-86da-f3d6112643ec",
   "metadata": {},
   "outputs": [],
   "source": [
    "# Count each word in each batch\n",
    "pairs = words.map(lambda word: (word, 1))\n",
    "wordCounts = pairs.reduceByKey(lambda x, y: x + y)"
   ]
  },
  {
   "cell_type": "code",
   "execution_count": null,
   "id": "6355dafa-af70-4978-b279-7393a6a2b2bb",
   "metadata": {},
   "outputs": [],
   "source": [
    "# Print the first ten elements of each RDD generated in this DStream to the console\n",
    "wordCounts.pprint()\n",
    "wordCounts.saveAsTextFiles(\"C:/Users/Hemanth/Downloads/Output/\",\"txt\")"
   ]
  },
  {
   "cell_type": "code",
   "execution_count": null,
   "id": "45c5f2d3-301b-4745-951d-9fb92d4953e8",
   "metadata": {},
   "outputs": [],
   "source": [
    "ssc.start()             # Start the computation\n",
    "ssc.awaitTermination()  # Wait for the computation to terminate"
   ]
  },
  {
   "cell_type": "code",
   "execution_count": null,
   "id": "3c9c2114-d1a3-4f48-862f-4281a2baef86",
   "metadata": {},
   "outputs": [],
   "source": []
  },
  {
   "cell_type": "code",
   "execution_count": null,
   "id": "a027843c-7528-4207-b55f-f3f96f9f5c75",
   "metadata": {},
   "outputs": [],
   "source": []
  },
  {
   "cell_type": "code",
   "execution_count": null,
   "id": "73a7caeb",
   "metadata": {},
   "outputs": [],
   "source": []
  }
 ],
 "metadata": {
  "kernelspec": {
   "display_name": "Python 3 (ipykernel)",
   "language": "python",
   "name": "python3"
  },
  "language_info": {
   "codemirror_mode": {
    "name": "ipython",
    "version": 3
   },
   "file_extension": ".py",
   "mimetype": "text/x-python",
   "name": "python",
   "nbconvert_exporter": "python",
   "pygments_lexer": "ipython3",
   "version": "3.9.12"
  }
 },
 "nbformat": 4,
 "nbformat_minor": 5
}
